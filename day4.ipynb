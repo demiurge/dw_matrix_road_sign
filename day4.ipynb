{
  "nbformat": 4,
  "nbformat_minor": 0,
  "metadata": {
    "colab": {
      "name": "day4.ipynb",
      "provenance": [],
      "mount_file_id": "19Mj9tpuTCRfAlnwAwGlYiPHsuoH8-eil",
      "authorship_tag": "ABX9TyP0pLvkhTe5qioV4oUol6q5",
      "include_colab_link": true
    },
    "kernelspec": {
      "name": "python3",
      "display_name": "Python 3"
    },
    "accelerator": "GPU"
  },
  "cells": [
    {
      "cell_type": "markdown",
      "metadata": {
        "id": "view-in-github",
        "colab_type": "text"
      },
      "source": [
        "<a href=\"https://colab.research.google.com/github/demiurge/dw_matrix_road_sign/blob/master/day4.ipynb\" target=\"_parent\"><img src=\"https://colab.research.google.com/assets/colab-badge.svg\" alt=\"Open In Colab\"/></a>"
      ]
    },
    {
      "cell_type": "code",
      "metadata": {
        "id": "YacUHBCqsTA5",
        "colab_type": "code",
        "colab": {
          "base_uri": "https://localhost:8080/",
          "height": 53
        },
        "outputId": "f50e579e-d066-4a16-8446-eef1885ee18f"
      },
      "source": [
        "import pandas as pd\n",
        "import numpy as np\n",
        "import os\n",
        "import datetime\n",
        "\n",
        "import tensorflow as tf\n",
        "from tensorflow.keras.models import Sequential\n",
        "from tensorflow.keras.layers import Conv2D, MaxPool2D, Dense, Flatten, Dropout\n",
        "from tensorflow.keras.utils import to_categorical\n",
        "\n",
        "%load_ext tensorboard\n",
        "\n",
        "import matplotlib.pyplot as plt\n",
        "from skimage import color, exposure\n",
        "\n",
        "from sklearn.metrics import accuracy_score"
      ],
      "execution_count": 37,
      "outputs": [
        {
          "output_type": "stream",
          "text": [
            "The tensorboard extension is already loaded. To reload it, use:\n",
            "  %reload_ext tensorboard\n"
          ],
          "name": "stdout"
        }
      ]
    },
    {
      "cell_type": "code",
      "metadata": {
        "id": "Z-YIBbfhuQDa",
        "colab_type": "code",
        "colab": {
          "base_uri": "https://localhost:8080/",
          "height": 35
        },
        "outputId": "dbb30808-b013-4842-9ee9-2ef867454d28"
      },
      "source": [
        "cd '/content/drive/My Drive/Colab Notebooks/matrix/matrix_three/dw_matrix_road_sign'"
      ],
      "execution_count": 11,
      "outputs": [
        {
          "output_type": "stream",
          "text": [
            "/content/drive/My Drive/Colab Notebooks/matrix/matrix_three/dw_matrix_road_sign\n"
          ],
          "name": "stdout"
        }
      ]
    },
    {
      "cell_type": "code",
      "metadata": {
        "id": "jVJjWU27uUDr",
        "colab_type": "code",
        "colab": {}
      },
      "source": [
        "train = pd.read_pickle('data/train.p')\n",
        "test = pd.read_pickle('data/test.p')\n",
        "\n",
        "X_train, y_train = train['features'], train['labels']\n",
        "X_test, y_test = test['features'], test['labels']"
      ],
      "execution_count": 0,
      "outputs": []
    },
    {
      "cell_type": "code",
      "metadata": {
        "id": "QbkE3qAfuWyA",
        "colab_type": "code",
        "colab": {}
      },
      "source": [
        "if y_train.ndim == 1: y_train = to_categorical(y_train)\n",
        "if y_test.ndim == 1: y_test = to_categorical(y_test)"
      ],
      "execution_count": 0,
      "outputs": []
    },
    {
      "cell_type": "code",
      "metadata": {
        "id": "yLLYz-rjuz1w",
        "colab_type": "code",
        "colab": {}
      },
      "source": [
        "input_shape = X_train.shape[1:]\n",
        "num_classes = y_train.shape[1]"
      ],
      "execution_count": 0,
      "outputs": []
    },
    {
      "cell_type": "code",
      "metadata": {
        "id": "WniaMihau3Ev",
        "colab_type": "code",
        "colab": {
          "base_uri": "https://localhost:8080/",
          "height": 53
        },
        "outputId": "3b58e2be-eda1-4ead-fde1-572120b3e178"
      },
      "source": [
        "model = Sequential ([\n",
        "  Conv2D(filters=64, kernel_size=(3,3), activation='relu', input_shape=input_shape),\n",
        "  Flatten(),\n",
        "  Dense(num_classes, activation='softmax'),\n",
        "])\n",
        "\n",
        "# model.summary()\n",
        "\n",
        "model.compile(loss='categorical_crossentropy', optimizer='Adam', metrics=['accuracy'])\n",
        "model.fit(X_train, y_train)"
      ],
      "execution_count": 16,
      "outputs": [
        {
          "output_type": "stream",
          "text": [
            "1088/1088 [==============================] - 4s 3ms/step - loss: 9.4215 - accuracy: 0.7844\n"
          ],
          "name": "stdout"
        },
        {
          "output_type": "execute_result",
          "data": {
            "text/plain": [
              "<tensorflow.python.keras.callbacks.History at 0x7f3690558d30>"
            ]
          },
          "metadata": {
            "tags": []
          },
          "execution_count": 16
        }
      ]
    },
    {
      "cell_type": "code",
      "metadata": {
        "id": "YZkIl00Uu9BD",
        "colab_type": "code",
        "colab": {}
      },
      "source": [
        "def get_cnn_v1(input_shape, num_classes):\n",
        "  return Sequential ([\n",
        "    Conv2D(filters=64, kernel_size=(3,3), activation='relu', input_shape=input_shape),\n",
        "    Flatten(),\n",
        "    Dense(num_classes, activation='softmax'),\n",
        "  ])\n",
        "\n",
        "def train_model(model, X_train, y_train, params_fit={}):\n",
        "  model.compile(loss='categorical_crossentropy', optimizer='Adam', metrics=['accuracy'])\n",
        "\n",
        "  logdir =os.path.join(\"logs\", datetime.datetime.now().strftime('%Y%m%d-%H%M%S'))\n",
        "  tensorboard_callback = tf.keras.callbacks.TensorBoard(logdir, histtrained_modelogram_freq=1)\n",
        "\n",
        "  model.fit(\n",
        "      X_train, \n",
        "      y_train,\n",
        "      batch_size=params_fit.get('batch_size', 128),\n",
        "      epochs=params_fit.get('epochs', 5),\n",
        "      verbose=params_fit.get('verbose', 1),\n",
        "      validation_data=params_fit.get('validation_data', (X_train, y_train)),\n",
        "      callbacks=[tensorboard_callback]\n",
        "      )\n",
        "  return model"
      ],
      "execution_count": 0,
      "outputs": []
    },
    {
      "cell_type": "code",
      "metadata": {
        "id": "3I8k4jiEvJjX",
        "colab_type": "code",
        "colab": {
          "base_uri": "https://localhost:8080/",
          "height": 195
        },
        "outputId": "c3b6e1c3-5665-4f92-d83f-f8481acb22d7"
      },
      "source": [
        "model = get_cnn_v1(input_shape, num_classes)\n",
        "model_trained = train_model(model, X_train, y_train)"
      ],
      "execution_count": 20,
      "outputs": [
        {
          "output_type": "stream",
          "text": [
            "Epoch 1/5\n",
            "272/272 [==============================] - 3s 11ms/step - loss: 27.7272 - accuracy: 0.7509 - val_loss: 0.1982 - val_accuracy: 0.9528\n",
            "Epoch 2/5\n",
            "272/272 [==============================] - 3s 10ms/step - loss: 0.1848 - accuracy: 0.9585 - val_loss: 0.1171 - val_accuracy: 0.9755\n",
            "Epoch 3/5\n",
            "272/272 [==============================] - 3s 10ms/step - loss: 0.1013 - accuracy: 0.9762 - val_loss: 0.0771 - val_accuracy: 0.9822\n",
            "Epoch 4/5\n",
            "272/272 [==============================] - 3s 10ms/step - loss: 0.1061 - accuracy: 0.9762 - val_loss: 0.0627 - val_accuracy: 0.9850\n",
            "Epoch 5/5\n",
            "272/272 [==============================] - 3s 10ms/step - loss: 0.0790 - accuracy: 0.9815 - val_loss: 0.0412 - val_accuracy: 0.9897\n"
          ],
          "name": "stdout"
        }
      ]
    },
    {
      "cell_type": "code",
      "metadata": {
        "id": "88ZjN358vMJe",
        "colab_type": "code",
        "colab": {
          "base_uri": "https://localhost:8080/",
          "height": 248
        },
        "outputId": "daef2a5e-cc99-4549-9810-6189e980ea5a"
      },
      "source": [
        "y_pred_prob = model_trained.predict(X_test)\n",
        "y_pred_prob"
      ],
      "execution_count": 21,
      "outputs": [
        {
          "output_type": "execute_result",
          "data": {
            "text/plain": [
              "array([[3.08840331e-09, 9.41301056e-04, 2.97857005e-05, ...,\n",
              "        8.01601738e-04, 2.99865659e-02, 8.28851444e-06],\n",
              "       [1.80610158e-08, 4.29072976e-03, 9.63722181e-04, ...,\n",
              "        5.73586561e-02, 8.96515325e-04, 1.71177380e-04],\n",
              "       [4.98527131e-09, 3.74363532e-04, 1.46270559e-05, ...,\n",
              "        7.13377143e-04, 6.21984065e-01, 2.21483751e-05],\n",
              "       ...,\n",
              "       [2.32964758e-05, 5.41216519e-04, 1.44348701e-03, ...,\n",
              "        2.59113288e-03, 3.01009801e-04, 4.56841826e-06],\n",
              "       [2.32276125e-06, 6.59759535e-05, 3.00064363e-04, ...,\n",
              "        4.39664442e-03, 5.95927704e-05, 3.30976695e-06],\n",
              "       [3.02702051e-06, 1.07877415e-04, 1.19591120e-03, ...,\n",
              "        7.24586018e-04, 1.43796846e-04, 5.38636812e-07]], dtype=float32)"
            ]
          },
          "metadata": {
            "tags": []
          },
          "execution_count": 21
        }
      ]
    },
    {
      "cell_type": "code",
      "metadata": {
        "id": "k_hOHdiYy9pu",
        "colab_type": "code",
        "colab": {
          "base_uri": "https://localhost:8080/",
          "height": 213
        },
        "outputId": "2415cdd8-931d-4a17-a2f9-8dd358b22815"
      },
      "source": [
        "y_pred_prob[400]"
      ],
      "execution_count": 30,
      "outputs": [
        {
          "output_type": "execute_result",
          "data": {
            "text/plain": [
              "array([3.3426017e-15, 9.9999285e-01, 2.3518565e-17, 9.8506644e-19,\n",
              "       7.1813015e-06, 3.1183657e-14, 6.2010145e-27, 1.7710677e-24,\n",
              "       2.6864357e-33, 6.1996405e-20, 2.2430067e-35, 6.0971756e-26,\n",
              "       7.7534953e-19, 1.0597625e-30, 8.3024120e-32, 3.6426005e-31,\n",
              "       6.1329535e-28, 0.0000000e+00, 1.0393836e-23, 2.9071623e-37,\n",
              "       0.0000000e+00, 0.0000000e+00, 0.0000000e+00, 3.3588425e-33,\n",
              "       5.1624450e-32, 8.9960800e-38, 2.7303272e-38, 0.0000000e+00,\n",
              "       1.9902149e-26, 2.7080574e-30, 6.3222519e-36, 2.5869349e-31,\n",
              "       4.3601821e-26, 1.8851563e-30, 4.2226319e-34, 1.0783206e-24,\n",
              "       0.0000000e+00, 0.0000000e+00, 2.7689520e-27, 0.0000000e+00,\n",
              "       3.5593600e-31, 0.0000000e+00, 1.3545441e-27], dtype=float32)"
            ]
          },
          "metadata": {
            "tags": []
          },
          "execution_count": 30
        }
      ]
    },
    {
      "cell_type": "code",
      "metadata": {
        "id": "Sd26H99Vy_74",
        "colab_type": "code",
        "colab": {
          "base_uri": "https://localhost:8080/",
          "height": 300
        },
        "outputId": "14264bec-0c94-4ebd-9b17-95d89ab1d38d"
      },
      "source": [
        "plt.bar(range(43), y_pred_prob[400])"
      ],
      "execution_count": 35,
      "outputs": [
        {
          "output_type": "stream",
          "text": [
            "ERROR! Session/line number was not unique in database. History logging moved to new session 61\n"
          ],
          "name": "stdout"
        },
        {
          "output_type": "execute_result",
          "data": {
            "text/plain": [
              "<BarContainer object of 43 artists>"
            ]
          },
          "metadata": {
            "tags": []
          },
          "execution_count": 35
        },
        {
          "output_type": "display_data",
          "data": {
            "image/png": "[encoded data removed]",
            "text/plain": [
              "<Figure size 432x288 with 1 Axes>"
            ]
          },
          "metadata": {
            "tags": []
          }
        }
      ]
    },
    {
      "cell_type": "code",
      "metadata": {
        "id": "iFDwYOr5wV-0",
        "colab_type": "code",
        "colab": {
          "base_uri": "https://localhost:8080/",
          "height": 284
        },
        "outputId": "e5ab8dfe-ad56-43bc-935e-1d1c72eb6249"
      },
      "source": [
        "plt.imshow(X_test[400])"
      ],
      "execution_count": 25,
      "outputs": [
        {
          "output_type": "execute_result",
          "data": {
            "text/plain": [
              "<matplotlib.image.AxesImage at 0x7f367e08b2e8>"
            ]
          },
          "metadata": {
            "tags": []
          },
          "execution_count": 25
        },
        {
          "output_type": "display_data",
          "data": {
            "image/png": "[encoded data removed]",
            "text/plain": [
              "<Figure size 432x288 with 1 Axes>"
            ]
          },
          "metadata": {
            "tags": []
          }
        }
      ]
    },
    {
      "cell_type": "code",
      "metadata": {
        "id": "sh61o08Cwh5g",
        "colab_type": "code",
        "colab": {}
      },
      "source": [
        "df = pd.read_csv('data/signnames.csv')\n",
        "labels_dict = df.to_dict()['b']"
      ],
      "execution_count": 0,
      "outputs": []
    },
    {
      "cell_type": "code",
      "metadata": {
        "id": "EuM5RFvDx2L9",
        "colab_type": "code",
        "colab": {
          "base_uri": "https://localhost:8080/",
          "height": 35
        },
        "outputId": "4de7ea0c-5163-4493-9b0f-c15cf281653a"
      },
      "source": [
        "labels_dict[np.argmax(y_pred_prob[400])]"
      ],
      "execution_count": 29,
      "outputs": [
        {
          "output_type": "execute_result",
          "data": {
            "text/plain": [
              "'Speed limit (30km/h)'"
            ]
          },
          "metadata": {
            "tags": []
          },
          "execution_count": 29
        }
      ]
    },
    {
      "cell_type": "code",
      "metadata": {
        "id": "rNZjy2PLyiEK",
        "colab_type": "code",
        "colab": {}
      },
      "source": [
        "def predict(model_trained, X_test, y_test, scoring=accuracy_score ):\n",
        "  y_test_norm = np.argmax(y_test, axis=1)\n",
        "\n",
        "  y_pred_prob = model_trained.predict(X_test)\n",
        "  y_pred = np.argmax(y_pred_prob, axis=1)\n",
        "\n",
        "  return scoring(y_test_norm, y_pred) "
      ],
      "execution_count": 0,
      "outputs": []
    },
    {
      "cell_type": "code",
      "metadata": {
        "id": "6EeAbBQf3B0S",
        "colab_type": "code",
        "colab": {
          "base_uri": "https://localhost:8080/",
          "height": 35
        },
        "outputId": "1123b064-18f4-489a-b4ca-7c74f5499d35"
      },
      "source": [
        "predict(model_trained, X_test, y_test)"
      ],
      "execution_count": 42,
      "outputs": [
        {
          "output_type": "execute_result",
          "data": {
            "text/plain": [
              "0.8378684807256236"
            ]
          },
          "metadata": {
            "tags": []
          },
          "execution_count": 42
        }
      ]
    },
    {
      "cell_type": "code",
      "metadata": {
        "id": "DDkOqj9T4CLC",
        "colab_type": "code",
        "colab": {
          "base_uri": "https://localhost:8080/",
          "height": 213
        },
        "outputId": "d434cac7-f923-46d8-84d4-0d7f8f00916c"
      },
      "source": [
        "def get_cnn_v2(input_shape, num_classes):\n",
        "  return Sequential ([\n",
        "    Conv2D(filters=32, kernel_size=(3,3), activation='relu', input_shape=input_shape),\n",
        "    MaxPool2D(),\n",
        "    Dropout(0.3),\n",
        "    Conv2D(filters=64, kernel_size=(3,3), activation='relu'),\n",
        "    MaxPool2D(),\n",
        "    Dropout(0.3),\n",
        "    Flatten(),\n",
        "    Dense(1024, activation='relu'),\n",
        "    Dropout(0.3),\n",
        "    Dense(num_classes, activation='softmax'),\n",
        "  ])\n",
        "\n",
        "\n",
        "def train_and_predict(model):\n",
        "  model_trained = train_model(model, X_train, y_train)\n",
        "  return predict(model_trained, X_test, y_test)\n",
        "\n",
        "\n",
        "train_and_predict(get_cnn_v2(input_shape, num_classes))"
      ],
      "execution_count": 45,
      "outputs": [
        {
          "output_type": "stream",
          "text": [
            "Epoch 1/5\n",
            "272/272 [==============================] - 3s 11ms/step - loss: 5.7055 - accuracy: 0.2057 - val_loss: 1.7489 - val_accuracy: 0.5282\n",
            "Epoch 2/5\n",
            "272/272 [==============================] - 3s 10ms/step - loss: 1.5624 - accuracy: 0.5436 - val_loss: 0.7200 - val_accuracy: 0.8054\n",
            "Epoch 3/5\n",
            "272/272 [==============================] - 3s 10ms/step - loss: 0.8580 - accuracy: 0.7396 - val_loss: 0.2854 - val_accuracy: 0.9374\n",
            "Epoch 4/5\n",
            "272/272 [==============================] - 3s 10ms/step - loss: 0.5096 - accuracy: 0.8464 - val_loss: 0.1459 - val_accuracy: 0.9684\n",
            "Epoch 5/5\n",
            "272/272 [==============================] - 3s 11ms/step - loss: 0.3597 - accuracy: 0.8906 - val_loss: 0.0864 - val_accuracy: 0.9827\n"
          ],
          "name": "stdout"
        },
        {
          "output_type": "execute_result",
          "data": {
            "text/plain": [
              "0.9072562358276643"
            ]
          },
          "metadata": {
            "tags": []
          },
          "execution_count": 45
        }
      ]
    },
    {
      "cell_type": "code",
      "metadata": {
        "id": "Tk6Z2NxG5pW_",
        "colab_type": "code",
        "colab": {
          "base_uri": "https://localhost:8080/",
          "height": 213
        },
        "outputId": "56f09cdc-b914-4601-eab8-66a3bf378871"
      },
      "source": [
        "def get_cnn_v3(input_shape, num_classes):\n",
        "  return Sequential ([\n",
        "    Conv2D(filters=32, kernel_size=(3,3), activation='relu', input_shape=input_shape),\n",
        "    Conv2D(filters=32, kernel_size=(3,3), activation='relu'),\n",
        "    MaxPool2D(),\n",
        "    Dropout(0.3),\n",
        "\n",
        "    Conv2D(filters=64, kernel_size=(3,3), activation='relu'),\n",
        "    Conv2D(filters=64, kernel_size=(3,3), activation='relu'),\n",
        "    MaxPool2D(),\n",
        "    Dropout(0.3),\n",
        "\n",
        "    Flatten(),\n",
        "\n",
        "    Dense(1024, activation='relu'),\n",
        "    Dropout(0.3),\n",
        "\n",
        "    Dense(num_classes, activation='softmax'),\n",
        "  ])\n",
        "\n",
        "\n",
        "train_and_predict(get_cnn_v3(input_shape, num_classes))"
      ],
      "execution_count": 46,
      "outputs": [
        {
          "output_type": "stream",
          "text": [
            "Epoch 1/5\n",
            "272/272 [==============================] - 4s 14ms/step - loss: 1.9726 - accuracy: 0.5555 - val_loss: 0.5276 - val_accuracy: 0.8802\n",
            "Epoch 2/5\n",
            "272/272 [==============================] - 3s 13ms/step - loss: 0.6909 - accuracy: 0.7913 - val_loss: 0.2829 - val_accuracy: 0.9251\n",
            "Epoch 3/5\n",
            "272/272 [==============================] - 4s 13ms/step - loss: 0.4569 - accuracy: 0.8568 - val_loss: 0.1403 - val_accuracy: 0.9661\n",
            "Epoch 4/5\n",
            "272/272 [==============================] - 4s 13ms/step - loss: 0.3198 - accuracy: 0.8988 - val_loss: 0.0779 - val_accuracy: 0.9810\n",
            "Epoch 5/5\n",
            "272/272 [==============================] - 4s 13ms/step - loss: 0.2379 - accuracy: 0.9250 - val_loss: 0.0485 - val_accuracy: 0.9882\n"
          ],
          "name": "stdout"
        },
        {
          "output_type": "execute_result",
          "data": {
            "text/plain": [
              "0.9299319727891157"
            ]
          },
          "metadata": {
            "tags": []
          },
          "execution_count": 46
        }
      ]
    },
    {
      "cell_type": "code",
      "metadata": {
        "id": "Sg0QN9bc822r",
        "colab_type": "code",
        "colab": {
          "base_uri": "https://localhost:8080/",
          "height": 213
        },
        "outputId": "f4e859d4-1608-4b50-ae0a-a358c5cf5511"
      },
      "source": [
        "def get_cnn_v4(input_shape, num_classes):\n",
        "  return Sequential ([\n",
        "    Conv2D(filters=32, kernel_size=(3,3), activation='relu', input_shape=input_shape),\n",
        "    Conv2D(filters=32, kernel_size=(3,3), activation='relu', padding='same'),\n",
        "    MaxPool2D(),\n",
        "    Dropout(0.3),\n",
        "\n",
        "    Conv2D(filters=64, kernel_size=(3,3), activation='relu', padding='same'),\n",
        "    Conv2D(filters=64, kernel_size=(3,3), activation='relu'),\n",
        "    MaxPool2D(),\n",
        "    Dropout(0.3),\n",
        "\n",
        "    Conv2D(filters=64, kernel_size=(3,3), activation='relu', padding='same'),\n",
        "    Conv2D(filters=64, kernel_size=(3,3), activation='relu'),\n",
        "    MaxPool2D(),\n",
        "    Dropout(0.3),\n",
        "\n",
        "    Flatten(),\n",
        "\n",
        "    Dense(1024, activation='relu'),\n",
        "    Dropout(0.3),\n",
        "\n",
        "    Dense(num_classes, activation='softmax'),\n",
        "  ])\n",
        "\n",
        "\n",
        "#get_cnn_v4(input_shape, num_classes).summary()\n",
        "train_and_predict(get_cnn_v4(input_shape, num_classes))"
      ],
      "execution_count": 52,
      "outputs": [
        {
          "output_type": "stream",
          "text": [
            "Epoch 1/5\n",
            "272/272 [==============================] - 4s 16ms/step - loss: 2.4322 - accuracy: 0.3471 - val_loss: 0.8102 - val_accuracy: 0.7779\n",
            "Epoch 2/5\n",
            "272/272 [==============================] - 4s 14ms/step - loss: 0.7377 - accuracy: 0.7738 - val_loss: 0.2211 - val_accuracy: 0.9374\n",
            "Epoch 3/5\n",
            "272/272 [==============================] - 4s 14ms/step - loss: 0.3902 - accuracy: 0.8799 - val_loss: 0.0872 - val_accuracy: 0.9778\n",
            "Epoch 4/5\n",
            "272/272 [==============================] - 4s 14ms/step - loss: 0.2559 - accuracy: 0.9221 - val_loss: 0.0704 - val_accuracy: 0.9795\n",
            "Epoch 5/5\n",
            "272/272 [==============================] - 4s 15ms/step - loss: 0.1966 - accuracy: 0.9414 - val_loss: 0.0402 - val_accuracy: 0.9897\n"
          ],
          "name": "stdout"
        },
        {
          "output_type": "execute_result",
          "data": {
            "text/plain": [
              "0.9655328798185941"
            ]
          },
          "metadata": {
            "tags": []
          },
          "execution_count": 52
        }
      ]
    },
    {
      "cell_type": "code",
      "metadata": {
        "id": "V9a1Zmbs9Yg3",
        "colab_type": "code",
        "colab": {
          "base_uri": "https://localhost:8080/",
          "height": 213
        },
        "outputId": "66405bbd-9c2f-429c-f887-43f7b07f03c0"
      },
      "source": [
        "def get_cnn_v5(input_shape, num_classes):\n",
        "  return Sequential ([\n",
        "    Conv2D(filters=32, kernel_size=(3,3), activation='relu', input_shape=input_shape),\n",
        "    Conv2D(filters=32, kernel_size=(3,3), activation='relu', padding='same'),\n",
        "    MaxPool2D(),\n",
        "    Dropout(0.3),\n",
        "\n",
        "    Conv2D(filters=64, kernel_size=(3,3), activation='relu', padding='same'),\n",
        "    Conv2D(filters=64, kernel_size=(3,3), activation='relu'),\n",
        "    MaxPool2D(),\n",
        "    Dropout(0.3),\n",
        "\n",
        "    Conv2D(filters=64, kernel_size=(3,3), activation='relu', padding='same'),\n",
        "    Conv2D(filters=64, kernel_size=(3,3), activation='relu'),\n",
        "    MaxPool2D(),\n",
        "    Dropout(0.3),\n",
        "\n",
        "    Flatten(),\n",
        "\n",
        "    Dense(1024, activation='relu'),\n",
        "    Dropout(0.3),\n",
        "\n",
        "    Dense(1024, activation='relu'),\n",
        "    Dropout(0.3),\n",
        "\n",
        "    Dense(num_classes, activation='softmax'),\n",
        "  ])\n",
        "\n",
        "\n",
        "#get_cnn_v4(input_shape, num_classes).summary()\n",
        "train_and_predict(get_cnn_v5(input_shape, num_classes))"
      ],
      "execution_count": 53,
      "outputs": [
        {
          "output_type": "stream",
          "text": [
            "Epoch 1/5\n",
            "272/272 [==============================] - 5s 17ms/step - loss: 2.7637 - accuracy: 0.2479 - val_loss: 1.2248 - val_accuracy: 0.5829\n",
            "Epoch 2/5\n",
            "272/272 [==============================] - 4s 16ms/step - loss: 1.0061 - accuracy: 0.6667 - val_loss: 0.2880 - val_accuracy: 0.9111\n",
            "Epoch 3/5\n",
            "272/272 [==============================] - 4s 15ms/step - loss: 0.4908 - accuracy: 0.8413 - val_loss: 0.1262 - val_accuracy: 0.9598\n",
            "Epoch 4/5\n",
            "272/272 [==============================] - 4s 15ms/step - loss: 0.3114 - accuracy: 0.9011 - val_loss: 0.0728 - val_accuracy: 0.9783\n",
            "Epoch 5/5\n",
            "272/272 [==============================] - 4s 15ms/step - loss: 0.2353 - accuracy: 0.9263 - val_loss: 0.0577 - val_accuracy: 0.9828\n"
          ],
          "name": "stdout"
        },
        {
          "output_type": "execute_result",
          "data": {
            "text/plain": [
              "0.9625850340136054"
            ]
          },
          "metadata": {
            "tags": []
          },
          "execution_count": 53
        }
      ]
    },
    {
      "cell_type": "code",
      "metadata": {
        "id": "4DMXSuZD-S9N",
        "colab_type": "code",
        "colab": {}
      },
      "source": [
        "X_train_gray = color.rgb2gray(X_train).reshape(-1, 32, 32, 1)\n",
        "X_test_gray = color.rgb2gray(X_test).reshape(-1, 32, 32, 1)"
      ],
      "execution_count": 0,
      "outputs": []
    },
    {
      "cell_type": "code",
      "metadata": {
        "id": "mMeHhX-5_XXa",
        "colab_type": "code",
        "colab": {
          "base_uri": "https://localhost:8080/",
          "height": 213
        },
        "outputId": "72314e2f-a60e-475e-e36f-4c81428ce84d"
      },
      "source": [
        "model = get_cnn_v5((32, 32, 1),num_classes)\n",
        "model_trained = train_model(model, X_train_gray, y_train, params_fit={})\n",
        "predict(model_trained, X_test_gray, y_test)"
      ],
      "execution_count": 60,
      "outputs": [
        {
          "output_type": "stream",
          "text": [
            "Epoch 1/5\n",
            "272/272 [==============================] - 4s 16ms/step - loss: 2.9228 - accuracy: 0.1878 - val_loss: 1.1300 - val_accuracy: 0.6650\n",
            "Epoch 2/5\n",
            "272/272 [==============================] - 4s 15ms/step - loss: 0.6691 - accuracy: 0.7854 - val_loss: 0.1792 - val_accuracy: 0.9420\n",
            "Epoch 3/5\n",
            "272/272 [==============================] - 4s 15ms/step - loss: 0.2584 - accuracy: 0.9189 - val_loss: 0.0629 - val_accuracy: 0.9814\n",
            "Epoch 4/5\n",
            "272/272 [==============================] - 4s 15ms/step - loss: 0.1556 - accuracy: 0.9514 - val_loss: 0.0446 - val_accuracy: 0.9858\n",
            "Epoch 5/5\n",
            "272/272 [==============================] - 4s 15ms/step - loss: 0.1284 - accuracy: 0.9602 - val_loss: 0.0248 - val_accuracy: 0.9931\n"
          ],
          "name": "stdout"
        },
        {
          "output_type": "execute_result",
          "data": {
            "text/plain": [
              "0.9798185941043084"
            ]
          },
          "metadata": {
            "tags": []
          },
          "execution_count": 60
        }
      ]
    },
    {
      "cell_type": "code",
      "metadata": {
        "id": "BEIPMpIo-pto",
        "colab_type": "code",
        "colab": {
          "base_uri": "https://localhost:8080/",
          "height": 284
        },
        "outputId": "1e5f0576-f194-4e8b-d181-4a0928b8aa5e"
      },
      "source": [
        "plt.imshow(color.rgb2gray(X_train[0]), cmap=plt.get_cmap('gray'))"
      ],
      "execution_count": 55,
      "outputs": [
        {
          "output_type": "execute_result",
          "data": {
            "text/plain": [
              "<matplotlib.image.AxesImage at 0x7f362abb1978>"
            ]
          },
          "metadata": {
            "tags": []
          },
          "execution_count": 55
        },
        {
          "output_type": "display_data",
          "data": {
            "image/png": "[encoded data removed]",
            "text/plain": [
              "<Figure size 432x288 with 1 Axes>"
            ]
          },
          "metadata": {
            "tags": []
          }
        }
      ]
    },
    {
      "cell_type": "code",
      "metadata": {
        "id": "DYQvTt8n-7YW",
        "colab_type": "code",
        "colab": {}
      },
      "source": [
        ""
      ],
      "execution_count": 0,
      "outputs": []
    }
  ]
}